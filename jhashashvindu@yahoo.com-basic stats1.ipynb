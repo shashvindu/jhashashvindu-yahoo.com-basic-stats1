{
 "cells": [
  {
   "cell_type": "code",
   "execution_count": 1,
   "metadata": {},
   "outputs": [],
   "source": [
    "import numpy as np\n",
    "import pandas as pd\n",
    "import matplotlib.pyplot as plt\n",
    "import seaborn as sns\n",
    "import scipy.stats as stats"
   ]
  },
  {
   "cell_type": "markdown",
   "metadata": {},
   "source": [
    "A physician is evaluating a new diet for her patients with a family history of\n",
    "heart disease. To test the effectiveness of this diet, 16 patients are placed on the\n",
    "diet for 6 months. Their weights and triglyceride levels are measured before\n",
    "and after the study, and the physician wants to know if either set of\n",
    "measurements has changed. (Data set: dietstudy.csv)"
   ]
  },
  {
   "cell_type": "code",
   "execution_count": 2,
   "metadata": {},
   "outputs": [
    {
     "data": {
      "text/html": [
       "<div>\n",
       "<style scoped>\n",
       "    .dataframe tbody tr th:only-of-type {\n",
       "        vertical-align: middle;\n",
       "    }\n",
       "\n",
       "    .dataframe tbody tr th {\n",
       "        vertical-align: top;\n",
       "    }\n",
       "\n",
       "    .dataframe thead th {\n",
       "        text-align: right;\n",
       "    }\n",
       "</style>\n",
       "<table border=\"1\" class=\"dataframe\">\n",
       "  <thead>\n",
       "    <tr style=\"text-align: right;\">\n",
       "      <th></th>\n",
       "      <th>patid</th>\n",
       "      <th>age</th>\n",
       "      <th>gender</th>\n",
       "      <th>tg0</th>\n",
       "      <th>tg1</th>\n",
       "      <th>tg2</th>\n",
       "      <th>tg3</th>\n",
       "      <th>tg4</th>\n",
       "      <th>wgt0</th>\n",
       "      <th>wgt1</th>\n",
       "      <th>wgt2</th>\n",
       "      <th>wgt3</th>\n",
       "      <th>wgt4</th>\n",
       "    </tr>\n",
       "  </thead>\n",
       "  <tbody>\n",
       "    <tr>\n",
       "      <th>0</th>\n",
       "      <td>1</td>\n",
       "      <td>45</td>\n",
       "      <td>Male</td>\n",
       "      <td>180</td>\n",
       "      <td>148</td>\n",
       "      <td>106</td>\n",
       "      <td>113</td>\n",
       "      <td>100</td>\n",
       "      <td>198</td>\n",
       "      <td>196</td>\n",
       "      <td>193</td>\n",
       "      <td>188</td>\n",
       "      <td>192</td>\n",
       "    </tr>\n",
       "    <tr>\n",
       "      <th>1</th>\n",
       "      <td>2</td>\n",
       "      <td>56</td>\n",
       "      <td>Male</td>\n",
       "      <td>139</td>\n",
       "      <td>94</td>\n",
       "      <td>119</td>\n",
       "      <td>75</td>\n",
       "      <td>92</td>\n",
       "      <td>237</td>\n",
       "      <td>233</td>\n",
       "      <td>232</td>\n",
       "      <td>228</td>\n",
       "      <td>225</td>\n",
       "    </tr>\n",
       "    <tr>\n",
       "      <th>2</th>\n",
       "      <td>3</td>\n",
       "      <td>50</td>\n",
       "      <td>Male</td>\n",
       "      <td>152</td>\n",
       "      <td>185</td>\n",
       "      <td>86</td>\n",
       "      <td>149</td>\n",
       "      <td>118</td>\n",
       "      <td>233</td>\n",
       "      <td>231</td>\n",
       "      <td>229</td>\n",
       "      <td>228</td>\n",
       "      <td>226</td>\n",
       "    </tr>\n",
       "    <tr>\n",
       "      <th>3</th>\n",
       "      <td>4</td>\n",
       "      <td>46</td>\n",
       "      <td>Female</td>\n",
       "      <td>112</td>\n",
       "      <td>145</td>\n",
       "      <td>136</td>\n",
       "      <td>149</td>\n",
       "      <td>82</td>\n",
       "      <td>179</td>\n",
       "      <td>181</td>\n",
       "      <td>177</td>\n",
       "      <td>174</td>\n",
       "      <td>172</td>\n",
       "    </tr>\n",
       "    <tr>\n",
       "      <th>4</th>\n",
       "      <td>5</td>\n",
       "      <td>64</td>\n",
       "      <td>Male</td>\n",
       "      <td>156</td>\n",
       "      <td>104</td>\n",
       "      <td>157</td>\n",
       "      <td>79</td>\n",
       "      <td>97</td>\n",
       "      <td>219</td>\n",
       "      <td>217</td>\n",
       "      <td>215</td>\n",
       "      <td>213</td>\n",
       "      <td>214</td>\n",
       "    </tr>\n",
       "  </tbody>\n",
       "</table>\n",
       "</div>"
      ],
      "text/plain": [
       "   patid  age  gender  tg0  tg1  tg2  tg3  tg4  wgt0  wgt1  wgt2  wgt3  wgt4\n",
       "0      1   45    Male  180  148  106  113  100   198   196   193   188   192\n",
       "1      2   56    Male  139   94  119   75   92   237   233   232   228   225\n",
       "2      3   50    Male  152  185   86  149  118   233   231   229   228   226\n",
       "3      4   46  Female  112  145  136  149   82   179   181   177   174   172\n",
       "4      5   64    Male  156  104  157   79   97   219   217   215   213   214"
      ]
     },
     "execution_count": 2,
     "metadata": {},
     "output_type": "execute_result"
    }
   ],
   "source": [
    "dit=pd.read_csv('dietstudy.csv')\n",
    "dit.head()"
   ]
  },
  {
   "cell_type": "code",
   "execution_count": 3,
   "metadata": {},
   "outputs": [],
   "source": [
    "dit=dit.drop(['patid'],axis=1)"
   ]
  },
  {
   "cell_type": "markdown",
   "metadata": {},
   "source": [
    "Null hypothesis: There is no difference in the levels of Triglycerides and weight of individual after using new diet for 6 months.\n",
    "\n",
    "Null hypothesis: There is has been a significant difference in the levels of Triglycerides and weight of individual after using new diet for 6 months.\n",
    "\n",
    "CI: 95%, p: 0.05\n",
    "        \n",
    "Test:t-test (paired sample)"
   ]
  },
  {
   "cell_type": "code",
   "execution_count": 4,
   "metadata": {},
   "outputs": [
    {
     "name": "stdout",
     "output_type": "stream",
     "text": [
      "Mean pre_usage:  138.4375 | Mean post_usage:  124.375\n",
      "Mean pre_usage:  198.375 | Mean post_usage:  190.3125\n"
     ]
    }
   ],
   "source": [
    "print( 'Mean pre_usage: ', dit.tg0.mean(),\n",
    "            '| Mean post_usage: ', dit.tg4.mean())\n",
    "print( 'Mean pre_usage: ', dit.wgt0.mean(),\n",
    "            '| Mean post_usage: ', dit.wgt4.mean())"
   ]
  },
  {
   "cell_type": "code",
   "execution_count": 5,
   "metadata": {},
   "outputs": [
    {
     "data": {
      "text/plain": [
       "Ttest_relResult(statistic=1.2000008533342437, pvalue=0.24874946576903698)"
      ]
     },
     "execution_count": 5,
     "metadata": {},
     "output_type": "execute_result"
    }
   ],
   "source": [
    "stats.ttest_rel( dit.tg0,dit.tg4)"
   ]
  },
  {
   "cell_type": "code",
   "execution_count": 6,
   "metadata": {},
   "outputs": [
    {
     "data": {
      "text/plain": [
       "Ttest_relResult(statistic=11.174521688532522, pvalue=1.137689414996614e-08)"
      ]
     },
     "execution_count": 6,
     "metadata": {},
     "output_type": "execute_result"
    }
   ],
   "source": [
    "stats.ttest_rel(dit.wgt0,dit.wgt4)"
   ]
  },
  {
   "cell_type": "markdown",
   "metadata": {},
   "source": [
    "# Independent-Samples T Test"
   ]
  },
  {
   "cell_type": "markdown",
   "metadata": {},
   "source": [
    "An analyst at a department store wants to evaluate a recent credit card\n",
    "promotion. To this end, 500 cardholders were randomly selected. Half received\n",
    "an ad promoting a reduced interest rate on purchases made over the next three\n",
    "months, and half received a standard seasonal ad. Is the promotion effective to\n",
    "increase sales?"
   ]
  },
  {
   "cell_type": "code",
   "execution_count": 7,
   "metadata": {},
   "outputs": [],
   "source": [
    "cred=pd.read_csv('creditpromo.csv')\n"
   ]
  },
  {
   "cell_type": "code",
   "execution_count": 8,
   "metadata": {},
   "outputs": [
    {
     "data": {
      "text/html": [
       "<div>\n",
       "<style scoped>\n",
       "    .dataframe tbody tr th:only-of-type {\n",
       "        vertical-align: middle;\n",
       "    }\n",
       "\n",
       "    .dataframe tbody tr th {\n",
       "        vertical-align: top;\n",
       "    }\n",
       "\n",
       "    .dataframe thead th {\n",
       "        text-align: right;\n",
       "    }\n",
       "</style>\n",
       "<table border=\"1\" class=\"dataframe\">\n",
       "  <thead>\n",
       "    <tr style=\"text-align: right;\">\n",
       "      <th></th>\n",
       "      <th>id</th>\n",
       "      <th>insert</th>\n",
       "      <th>dollars</th>\n",
       "    </tr>\n",
       "  </thead>\n",
       "  <tbody>\n",
       "    <tr>\n",
       "      <th>0</th>\n",
       "      <td>148</td>\n",
       "      <td>Standard</td>\n",
       "      <td>2232.771979</td>\n",
       "    </tr>\n",
       "    <tr>\n",
       "      <th>1</th>\n",
       "      <td>572</td>\n",
       "      <td>New Promotion</td>\n",
       "      <td>1403.807542</td>\n",
       "    </tr>\n",
       "    <tr>\n",
       "      <th>2</th>\n",
       "      <td>973</td>\n",
       "      <td>Standard</td>\n",
       "      <td>2327.092181</td>\n",
       "    </tr>\n",
       "    <tr>\n",
       "      <th>3</th>\n",
       "      <td>1096</td>\n",
       "      <td>Standard</td>\n",
       "      <td>1280.030541</td>\n",
       "    </tr>\n",
       "    <tr>\n",
       "      <th>4</th>\n",
       "      <td>1541</td>\n",
       "      <td>New Promotion</td>\n",
       "      <td>1513.563200</td>\n",
       "    </tr>\n",
       "  </tbody>\n",
       "</table>\n",
       "</div>"
      ],
      "text/plain": [
       "     id         insert      dollars\n",
       "0   148       Standard  2232.771979\n",
       "1   572  New Promotion  1403.807542\n",
       "2   973       Standard  2327.092181\n",
       "3  1096       Standard  1280.030541\n",
       "4  1541  New Promotion  1513.563200"
      ]
     },
     "execution_count": 8,
     "metadata": {},
     "output_type": "execute_result"
    }
   ],
   "source": [
    "cred.head()"
   ]
  },
  {
   "cell_type": "code",
   "execution_count": 9,
   "metadata": {},
   "outputs": [],
   "source": [
    "var= 'dollars'\n",
    "a=cred.loc[cred['insert'] =='Standard',var]\n",
    "b=cred.loc[cred['insert'] =='New Promotion',var]"
   ]
  },
  {
   "cell_type": "code",
   "execution_count": 10,
   "metadata": {},
   "outputs": [
    {
     "name": "stdout",
     "output_type": "stream",
     "text": [
      "Standard avg:  1566.39\n",
      "New Promotion:  1637.5\n"
     ]
    }
   ],
   "source": [
    " print( 'Standard avg: ',cred[cred['insert'] == 'Standard']['dollars'].mean().round(2))\n",
    " print( 'New Promotion: ',cred[cred['insert'] == 'New Promotion']['dollars'].mean().round(2))"
   ]
  },
  {
   "cell_type": "code",
   "execution_count": 11,
   "metadata": {},
   "outputs": [
    {
     "name": "stdout",
     "output_type": "stream",
     "text": [
      " Standard avg:  120182.2\n",
      "New Promotion:  127237.15\n"
     ]
    }
   ],
   "source": [
    " print( ' Standard avg: ',cred[cred['insert'] == 'Standard']['dollars'].var().round(2))\n",
    " print( 'New Promotion: ',cred[cred['insert'] == 'New Promotion']['dollars'].var().round(2)) "
   ]
  },
  {
   "cell_type": "code",
   "execution_count": 12,
   "metadata": {},
   "outputs": [
    {
     "data": {
      "text/plain": [
       "Ttest_indResult(statistic=-2.2604227264649963, pvalue=0.024225996894147814)"
      ]
     },
     "execution_count": 12,
     "metadata": {},
     "output_type": "execute_result"
    }
   ],
   "source": [
    "stats.ttest_ind( a,b )"
   ]
  },
  {
   "cell_type": "markdown",
   "metadata": {},
   "source": [
    "Since the p-values is less than 0.05 for 95% confidence interval, we reject the null hypothesis"
   ]
  },
  {
   "cell_type": "code",
   "execution_count": null,
   "metadata": {},
   "outputs": [],
   "source": []
  },
  {
   "cell_type": "markdown",
   "metadata": {},
   "source": [
    " An experiment is conducted to study the hybrid seed production of bottle gourd\n",
    "under open field conditions. The main aim of the investigation is to compare\n",
    "natural pollination and hand pollination. The data are collected on 10 randomly\n",
    "selected plants from each of natural pollination and hand pollination. The data\n",
    "are collected on fruit weight (kg), seed yield/plant (g) and seedling length (cm)"
   ]
  },
  {
   "cell_type": "code",
   "execution_count": 13,
   "metadata": {},
   "outputs": [],
   "source": [
    "dfp=pd.read_csv('pollination.csv')"
   ]
  },
  {
   "cell_type": "code",
   "execution_count": 14,
   "metadata": {},
   "outputs": [
    {
     "data": {
      "text/html": [
       "<div>\n",
       "<style scoped>\n",
       "    .dataframe tbody tr th:only-of-type {\n",
       "        vertical-align: middle;\n",
       "    }\n",
       "\n",
       "    .dataframe tbody tr th {\n",
       "        vertical-align: top;\n",
       "    }\n",
       "\n",
       "    .dataframe thead th {\n",
       "        text-align: right;\n",
       "    }\n",
       "</style>\n",
       "<table border=\"1\" class=\"dataframe\">\n",
       "  <thead>\n",
       "    <tr style=\"text-align: right;\">\n",
       "      <th></th>\n",
       "      <th>Group</th>\n",
       "      <th>Fruit_Wt</th>\n",
       "      <th>Seed_Yield_Plant</th>\n",
       "      <th>Seedling_length</th>\n",
       "    </tr>\n",
       "  </thead>\n",
       "  <tbody>\n",
       "    <tr>\n",
       "      <th>0</th>\n",
       "      <td>Natural</td>\n",
       "      <td>1.85</td>\n",
       "      <td>147.70</td>\n",
       "      <td>16.86</td>\n",
       "    </tr>\n",
       "    <tr>\n",
       "      <th>1</th>\n",
       "      <td>Natural</td>\n",
       "      <td>1.86</td>\n",
       "      <td>136.86</td>\n",
       "      <td>16.77</td>\n",
       "    </tr>\n",
       "    <tr>\n",
       "      <th>2</th>\n",
       "      <td>Natural</td>\n",
       "      <td>1.83</td>\n",
       "      <td>149.97</td>\n",
       "      <td>16.35</td>\n",
       "    </tr>\n",
       "    <tr>\n",
       "      <th>3</th>\n",
       "      <td>Natural</td>\n",
       "      <td>1.89</td>\n",
       "      <td>172.33</td>\n",
       "      <td>18.26</td>\n",
       "    </tr>\n",
       "    <tr>\n",
       "      <th>4</th>\n",
       "      <td>Natural</td>\n",
       "      <td>1.80</td>\n",
       "      <td>144.46</td>\n",
       "      <td>17.90</td>\n",
       "    </tr>\n",
       "  </tbody>\n",
       "</table>\n",
       "</div>"
      ],
      "text/plain": [
       "     Group  Fruit_Wt  Seed_Yield_Plant  Seedling_length\n",
       "0  Natural      1.85            147.70            16.86\n",
       "1  Natural      1.86            136.86            16.77\n",
       "2  Natural      1.83            149.97            16.35\n",
       "3  Natural      1.89            172.33            18.26\n",
       "4  Natural      1.80            144.46            17.90"
      ]
     },
     "execution_count": 14,
     "metadata": {},
     "output_type": "execute_result"
    }
   ],
   "source": [
    "dfp.head()"
   ]
  },
  {
   "cell_type": "code",
   "execution_count": 15,
   "metadata": {},
   "outputs": [
    {
     "data": {
      "text/plain": [
       "180.8035"
      ]
     },
     "execution_count": 15,
     "metadata": {},
     "output_type": "execute_result"
    }
   ],
   "source": [
    "dfp['Seed_Yield_Plant'].mean()"
   ]
  },
  {
   "cell_type": "code",
   "execution_count": 16,
   "metadata": {},
   "outputs": [
    {
     "data": {
      "text/plain": [
       "array(['Natural', 'Hand'], dtype=object)"
      ]
     },
     "execution_count": 16,
     "metadata": {},
     "output_type": "execute_result"
    }
   ],
   "source": [
    "dfp.Group.unique()"
   ]
  },
  {
   "cell_type": "markdown",
   "metadata": {},
   "source": [
    "Null hypothesis: Natural and hand pollination are equally effective.\n",
    "\n",
    "Alternate hypothesis: They are significantly different."
   ]
  },
  {
   "cell_type": "code",
   "execution_count": 17,
   "metadata": {},
   "outputs": [
    {
     "data": {
      "text/html": [
       "<div>\n",
       "<style scoped>\n",
       "    .dataframe tbody tr th:only-of-type {\n",
       "        vertical-align: middle;\n",
       "    }\n",
       "\n",
       "    .dataframe tbody tr th {\n",
       "        vertical-align: top;\n",
       "    }\n",
       "\n",
       "    .dataframe thead th {\n",
       "        text-align: right;\n",
       "    }\n",
       "</style>\n",
       "<table border=\"1\" class=\"dataframe\">\n",
       "  <thead>\n",
       "    <tr style=\"text-align: right;\">\n",
       "      <th></th>\n",
       "      <th>Group</th>\n",
       "      <th>Fruit_Wt</th>\n",
       "      <th>Seed_Yield_Plant</th>\n",
       "      <th>Seedling_length</th>\n",
       "    </tr>\n",
       "  </thead>\n",
       "  <tbody>\n",
       "    <tr>\n",
       "      <th>0</th>\n",
       "      <td>Natural</td>\n",
       "      <td>1.85</td>\n",
       "      <td>147.70</td>\n",
       "      <td>16.86</td>\n",
       "    </tr>\n",
       "    <tr>\n",
       "      <th>1</th>\n",
       "      <td>Natural</td>\n",
       "      <td>1.86</td>\n",
       "      <td>136.86</td>\n",
       "      <td>16.77</td>\n",
       "    </tr>\n",
       "    <tr>\n",
       "      <th>2</th>\n",
       "      <td>Natural</td>\n",
       "      <td>1.83</td>\n",
       "      <td>149.97</td>\n",
       "      <td>16.35</td>\n",
       "    </tr>\n",
       "    <tr>\n",
       "      <th>3</th>\n",
       "      <td>Natural</td>\n",
       "      <td>1.89</td>\n",
       "      <td>172.33</td>\n",
       "      <td>18.26</td>\n",
       "    </tr>\n",
       "    <tr>\n",
       "      <th>4</th>\n",
       "      <td>Natural</td>\n",
       "      <td>1.80</td>\n",
       "      <td>144.46</td>\n",
       "      <td>17.90</td>\n",
       "    </tr>\n",
       "    <tr>\n",
       "      <th>5</th>\n",
       "      <td>Natural</td>\n",
       "      <td>1.88</td>\n",
       "      <td>138.30</td>\n",
       "      <td>16.95</td>\n",
       "    </tr>\n",
       "    <tr>\n",
       "      <th>6</th>\n",
       "      <td>Natural</td>\n",
       "      <td>1.89</td>\n",
       "      <td>150.58</td>\n",
       "      <td>18.15</td>\n",
       "    </tr>\n",
       "    <tr>\n",
       "      <th>7</th>\n",
       "      <td>Natural</td>\n",
       "      <td>1.79</td>\n",
       "      <td>140.99</td>\n",
       "      <td>18.86</td>\n",
       "    </tr>\n",
       "    <tr>\n",
       "      <th>8</th>\n",
       "      <td>Natural</td>\n",
       "      <td>1.85</td>\n",
       "      <td>140.57</td>\n",
       "      <td>18.39</td>\n",
       "    </tr>\n",
       "    <tr>\n",
       "      <th>9</th>\n",
       "      <td>Natural</td>\n",
       "      <td>1.84</td>\n",
       "      <td>138.33</td>\n",
       "      <td>18.58</td>\n",
       "    </tr>\n",
       "    <tr>\n",
       "      <th>10</th>\n",
       "      <td>Hand</td>\n",
       "      <td>2.58</td>\n",
       "      <td>224.26</td>\n",
       "      <td>18.18</td>\n",
       "    </tr>\n",
       "    <tr>\n",
       "      <th>11</th>\n",
       "      <td>Hand</td>\n",
       "      <td>2.74</td>\n",
       "      <td>197.50</td>\n",
       "      <td>18.07</td>\n",
       "    </tr>\n",
       "    <tr>\n",
       "      <th>12</th>\n",
       "      <td>Hand</td>\n",
       "      <td>2.58</td>\n",
       "      <td>230.34</td>\n",
       "      <td>19.07</td>\n",
       "    </tr>\n",
       "    <tr>\n",
       "      <th>13</th>\n",
       "      <td>Hand</td>\n",
       "      <td>2.62</td>\n",
       "      <td>217.05</td>\n",
       "      <td>19.00</td>\n",
       "    </tr>\n",
       "    <tr>\n",
       "      <th>14</th>\n",
       "      <td>Hand</td>\n",
       "      <td>2.68</td>\n",
       "      <td>233.84</td>\n",
       "      <td>18.00</td>\n",
       "    </tr>\n",
       "    <tr>\n",
       "      <th>15</th>\n",
       "      <td>Hand</td>\n",
       "      <td>2.56</td>\n",
       "      <td>216.52</td>\n",
       "      <td>18.49</td>\n",
       "    </tr>\n",
       "    <tr>\n",
       "      <th>16</th>\n",
       "      <td>Hand</td>\n",
       "      <td>2.34</td>\n",
       "      <td>211.93</td>\n",
       "      <td>17.45</td>\n",
       "    </tr>\n",
       "    <tr>\n",
       "      <th>17</th>\n",
       "      <td>Hand</td>\n",
       "      <td>2.67</td>\n",
       "      <td>210.37</td>\n",
       "      <td>18.97</td>\n",
       "    </tr>\n",
       "    <tr>\n",
       "      <th>18</th>\n",
       "      <td>Hand</td>\n",
       "      <td>2.45</td>\n",
       "      <td>199.87</td>\n",
       "      <td>19.31</td>\n",
       "    </tr>\n",
       "    <tr>\n",
       "      <th>19</th>\n",
       "      <td>Hand</td>\n",
       "      <td>2.44</td>\n",
       "      <td>214.30</td>\n",
       "      <td>19.36</td>\n",
       "    </tr>\n",
       "  </tbody>\n",
       "</table>\n",
       "</div>"
      ],
      "text/plain": [
       "      Group  Fruit_Wt  Seed_Yield_Plant  Seedling_length\n",
       "0   Natural      1.85            147.70            16.86\n",
       "1   Natural      1.86            136.86            16.77\n",
       "2   Natural      1.83            149.97            16.35\n",
       "3   Natural      1.89            172.33            18.26\n",
       "4   Natural      1.80            144.46            17.90\n",
       "5   Natural      1.88            138.30            16.95\n",
       "6   Natural      1.89            150.58            18.15\n",
       "7   Natural      1.79            140.99            18.86\n",
       "8   Natural      1.85            140.57            18.39\n",
       "9   Natural      1.84            138.33            18.58\n",
       "10     Hand      2.58            224.26            18.18\n",
       "11     Hand      2.74            197.50            18.07\n",
       "12     Hand      2.58            230.34            19.07\n",
       "13     Hand      2.62            217.05            19.00\n",
       "14     Hand      2.68            233.84            18.00\n",
       "15     Hand      2.56            216.52            18.49\n",
       "16     Hand      2.34            211.93            17.45\n",
       "17     Hand      2.67            210.37            18.97\n",
       "18     Hand      2.45            199.87            19.31\n",
       "19     Hand      2.44            214.30            19.36"
      ]
     },
     "execution_count": 17,
     "metadata": {},
     "output_type": "execute_result"
    }
   ],
   "source": [
    "dfp"
   ]
  },
  {
   "cell_type": "markdown",
   "metadata": {},
   "source": [
    "# a. Is the overall population of Seed yield/plant (g) equals to 200?"
   ]
  },
  {
   "cell_type": "code",
   "execution_count": 18,
   "metadata": {},
   "outputs": [
    {
     "data": {
      "text/plain": [
       "180.8035"
      ]
     },
     "execution_count": 18,
     "metadata": {},
     "output_type": "execute_result"
    }
   ],
   "source": [
    "dfp['Seed_Yield_Plant'].mean()"
   ]
  },
  {
   "cell_type": "markdown",
   "metadata": {},
   "source": [
    " The mean of Seed yield/plant for the whole population is not 200"
   ]
  },
  {
   "cell_type": "markdown",
   "metadata": {},
   "source": [
    "Ho: mean <= 200\n",
    "Ha: mean > 200\n",
    "    \n",
    "CI: 95%, p: 0.05\n",
    "        \n",
    "Test: 1 - sample t test"
   ]
  },
  {
   "cell_type": "code",
   "execution_count": 19,
   "metadata": {},
   "outputs": [
    {
     "data": {
      "text/plain": [
       "Ttest_1sampResult(statistic=15.678241300416927, pvalue=2.522080528618035e-12)"
      ]
     },
     "execution_count": 19,
     "metadata": {},
     "output_type": "execute_result"
    }
   ],
   "source": [
    "stats.ttest_1samp( dfp['Seed_Yield_Plant'], 50 )"
   ]
  },
  {
   "cell_type": "markdown",
   "metadata": {},
   "source": [
    "# b. Test whether the natural pollination and hand pollination under open field conditions are equally effective or are significantly different."
   ]
  },
  {
   "cell_type": "code",
   "execution_count": 20,
   "metadata": {},
   "outputs": [
    {
     "data": {
      "text/plain": [
       "Index(['Group', 'Fruit_Wt', 'Seed_Yield_Plant', 'Seedling_length'], dtype='object')"
      ]
     },
     "execution_count": 20,
     "metadata": {},
     "output_type": "execute_result"
    }
   ],
   "source": [
    "dfp.columns"
   ]
  },
  {
   "cell_type": "code",
   "execution_count": null,
   "metadata": {},
   "outputs": [],
   "source": []
  },
  {
   "cell_type": "code",
   "execution_count": 21,
   "metadata": {},
   "outputs": [
    {
     "name": "stdout",
     "output_type": "stream",
     "text": [
      "Natural avg:  1.85 of Fruit_Wt  | Hand avg:  2.57 of Fruit_Wt\n",
      "Natural var:  0.0 of Fruit_Wt  | Hand var:  0.02 of Fruit_Wt\n",
      "Ttest_indResult(statistic=-17.669989614440286, pvalue=8.078362076486221e-13) of Fruit_Wt\n"
     ]
    }
   ],
   "source": [
    "a1=dfp.loc[dfp['Group'] =='Natural','Fruit_Wt']\n",
    "b1=dfp.loc[dfp['Group'] =='Hand','Fruit_Wt']\n",
    "print( 'Natural avg: ', round(a1.mean(), 2),'of Fruit_Wt', \n",
    "          ' | Hand avg: ', round(b1.mean(), 2),'of Fruit_Wt')\n",
    "print( 'Natural var: ', round(a1.var(), 2),'of Fruit_Wt', \n",
    "          ' | Hand var: ', round(b1.var(), 2),'of Fruit_Wt')\n",
    "print(stats.ttest_ind( a1, b1),'of Fruit_Wt')"
   ]
  },
  {
   "cell_type": "code",
   "execution_count": null,
   "metadata": {},
   "outputs": [],
   "source": []
  },
  {
   "cell_type": "code",
   "execution_count": 22,
   "metadata": {},
   "outputs": [
    {
     "name": "stdout",
     "output_type": "stream",
     "text": [
      "Natural avg:  146.01 of Seed_Yield_Plant  | Hand avg:  215.6 of Seed_Yield_Plant\n",
      "Natural var:  110.17 of Seed_Yield_Plant  | Hand var:  138.38 of Seed_Yield_Plant\n",
      "Ttest_indResult(statistic=-13.958260515902547, pvalue=4.271481585484385e-11) of Seed_Yield_Plant\n"
     ]
    }
   ],
   "source": [
    "a2=dfp.loc[dfp['Group'] =='Natural','Seed_Yield_Plant']\n",
    "b2=dfp.loc[dfp['Group'] =='Hand','Seed_Yield_Plant']\n",
    "print( 'Natural avg: ', round(a2.mean(), 2),'of Seed_Yield_Plant', \n",
    "          ' | Hand avg: ', round(b2.mean(), 2),'of Seed_Yield_Plant')\n",
    "print( 'Natural var: ', round(a2.var(), 2), 'of Seed_Yield_Plant',\n",
    "          ' | Hand var: ', round(b2.var(), 2),'of Seed_Yield_Plant')\n",
    "print(stats.ttest_ind( a2, b2),'of Seed_Yield_Plant')"
   ]
  },
  {
   "cell_type": "code",
   "execution_count": 23,
   "metadata": {},
   "outputs": [
    {
     "name": "stdout",
     "output_type": "stream",
     "text": [
      "Natural avg:  17.71 of Seedling_length  | Hand avg:  18.59 of Seedling_length\n",
      "Natural var:  0.79 of Seedling_length  | Hand var:  0.42 of Seedling_length\n",
      "Ttest_indResult(statistic=-2.542229999657055, pvalue=0.020428817064110226) of Seedling_length\n"
     ]
    }
   ],
   "source": [
    "a3=dfp.loc[dfp['Group'] =='Natural','Seedling_length']\n",
    "b3=dfp.loc[dfp['Group'] =='Hand','Seedling_length']\n",
    "print( 'Natural avg: ', round(a3.mean(), 2),'of Seedling_length', \n",
    "          ' | Hand avg: ', round(b3.mean(), 2),'of Seedling_length')\n",
    "print( 'Natural var: ', round(a3.var(), 2), 'of Seedling_length',\n",
    "          ' | Hand var: ', round(b3.var(), 2),'of Seedling_length')\n",
    "print(stats.ttest_ind( a3, b3),'of Seedling_length')"
   ]
  },
  {
   "cell_type": "markdown",
   "metadata": {},
   "source": [
    "*Since in all 3 cases p-value is less than 0.05 we reject the null hypothesis*"
   ]
  },
  {
   "cell_type": "markdown",
   "metadata": {},
   "source": [
    "4. An electronics firm is developing a new DVD player in response to customer\n",
    "requests. Using a prototype, the marketing team has collected focus data for\n",
    "different age groups viz. Under 25; 25-34; 35-44; 45-54; 55-64; 65 and above.\n",
    "Do you think that consumers of various ages rated the design differently?\n",
    "(Data set: dvdplayer.csv"
   ]
  },
  {
   "cell_type": "markdown",
   "metadata": {},
   "source": [
    "Null Hypothesis: Consumers from different age-groups rated the design similarly.\n",
    "\n",
    "Alternate Hypothesis: Consumers from different age-groups rated the design differently.\n"
   ]
  },
  {
   "cell_type": "code",
   "execution_count": 24,
   "metadata": {},
   "outputs": [],
   "source": [
    "dvd=pd.read_csv('dvdplayer.csv')"
   ]
  },
  {
   "cell_type": "code",
   "execution_count": 25,
   "metadata": {},
   "outputs": [
    {
     "data": {
      "text/html": [
       "<div>\n",
       "<style scoped>\n",
       "    .dataframe tbody tr th:only-of-type {\n",
       "        vertical-align: middle;\n",
       "    }\n",
       "\n",
       "    .dataframe tbody tr th {\n",
       "        vertical-align: top;\n",
       "    }\n",
       "\n",
       "    .dataframe thead th {\n",
       "        text-align: right;\n",
       "    }\n",
       "</style>\n",
       "<table border=\"1\" class=\"dataframe\">\n",
       "  <thead>\n",
       "    <tr style=\"text-align: right;\">\n",
       "      <th></th>\n",
       "      <th>agegroup</th>\n",
       "      <th>dvdscore</th>\n",
       "    </tr>\n",
       "  </thead>\n",
       "  <tbody>\n",
       "    <tr>\n",
       "      <th>0</th>\n",
       "      <td>65 and over</td>\n",
       "      <td>38.454803</td>\n",
       "    </tr>\n",
       "    <tr>\n",
       "      <th>1</th>\n",
       "      <td>55-64</td>\n",
       "      <td>17.669677</td>\n",
       "    </tr>\n",
       "    <tr>\n",
       "      <th>2</th>\n",
       "      <td>65 and over</td>\n",
       "      <td>31.704307</td>\n",
       "    </tr>\n",
       "    <tr>\n",
       "      <th>3</th>\n",
       "      <td>65 and over</td>\n",
       "      <td>25.924460</td>\n",
       "    </tr>\n",
       "    <tr>\n",
       "      <th>4</th>\n",
       "      <td>Under 25</td>\n",
       "      <td>30.450007</td>\n",
       "    </tr>\n",
       "  </tbody>\n",
       "</table>\n",
       "</div>"
      ],
      "text/plain": [
       "      agegroup   dvdscore\n",
       "0  65 and over  38.454803\n",
       "1        55-64  17.669677\n",
       "2  65 and over  31.704307\n",
       "3  65 and over  25.924460\n",
       "4     Under 25  30.450007"
      ]
     },
     "execution_count": 25,
     "metadata": {},
     "output_type": "execute_result"
    }
   ],
   "source": [
    "dvd.head()"
   ]
  },
  {
   "cell_type": "markdown",
   "metadata": {},
   "source": [
    "# Applying ANOVA"
   ]
  },
  {
   "cell_type": "code",
   "execution_count": 26,
   "metadata": {},
   "outputs": [
    {
     "data": {
      "text/plain": [
       "array(['65 and over', '55-64', 'Under 25', '25-34', '45-54', '35-44'],\n",
       "      dtype=object)"
      ]
     },
     "execution_count": 26,
     "metadata": {},
     "output_type": "execute_result"
    }
   ],
   "source": [
    "dvd.agegroup.unique()"
   ]
  },
  {
   "cell_type": "code",
   "execution_count": 27,
   "metadata": {},
   "outputs": [],
   "source": [
    "f1 = dvd.loc[dvd.agegroup == '65 and over', 'dvdscore']\n",
    "f2 = dvd.loc[dvd.agegroup == '55-64', 'dvdscore']\n",
    "f3 = dvd.loc[dvd.agegroup == '45-54', 'dvdscore']\n",
    "f4 = dvd.loc[dvd.agegroup == '35-44', 'dvdscore']\n",
    "f5 = dvd.loc[dvd.agegroup == '25-34', 'dvdscore']\n",
    "f6 = dvd.loc[dvd.agegroup == 'Under 25', 'dvdscore']"
   ]
  },
  {
   "cell_type": "code",
   "execution_count": 28,
   "metadata": {},
   "outputs": [
    {
     "name": "stdout",
     "output_type": "stream",
     "text": [
      "mean f1: 28.0 | mean f2: 28.45 | mean f3: 39.12 | mean f4: 37.02 | mean f5: 31.68 | mean f6: 28.75\n"
     ]
    }
   ],
   "source": [
    "print( 'mean f1:', round(f1.mean(), 2), \n",
    "          '| mean f2:', round(f2.mean(), 2), \n",
    "              '| mean f3:', round(f3.mean(), 2),\n",
    "                '| mean f4:', round(f4.mean(), 2), \n",
    "                      '| mean f5:', round(f5.mean(), 2), \n",
    "                              '| mean f6:', round(f6.mean(), 2))"
   ]
  },
  {
   "cell_type": "code",
   "execution_count": 29,
   "metadata": {},
   "outputs": [
    {
     "name": "stdout",
     "output_type": "stream",
     "text": [
      "mean f1: 27.72 | mean f2: 29.52 | mean f3: 41.38 | mean f4: 63.78 | mean f5: 34.08 | mean f6: 26.98\n"
     ]
    }
   ],
   "source": [
    "print( 'mean f1:', round(f1.var(), 2), \n",
    "          '| mean f2:', round(f2.var(), 2), \n",
    "              '| mean f3:', round(f3.var(), 2),\n",
    "                '| mean f4:', round(f4.var(), 2), \n",
    "                      '| mean f5:', round(f5.var(), 2), \n",
    "                              '| mean f6:', round(f6.var(), 2))"
   ]
  },
  {
   "cell_type": "code",
   "execution_count": 30,
   "metadata": {},
   "outputs": [
    {
     "data": {
      "text/plain": [
       "F_onewayResult(statistic=6.992526962676514, pvalue=3.087324905679639e-05)"
      ]
     },
     "execution_count": 30,
     "metadata": {},
     "output_type": "execute_result"
    }
   ],
   "source": [
    "stats.f_oneway(f1, f2, f3,f4,f5,f6)"
   ]
  },
  {
   "cell_type": "markdown",
   "metadata": {},
   "source": [
    "5. A survey was conducted among 2800 customers on several demographic\n",
    "characteristics. Working status, sex, age, age-group, race, happiness, no. of\n",
    "child, marital status, educational qualifications, income group etc. had been\n",
    "captured for that purpose. (Data set: sample_survey.csv).\n",
    "\n",
    "a. Is there any relationship in between labour force status with marital status?\n",
    "\n",
    "b. Do you think educational qualification is somehow controlling the marital\n",
    "status?\n",
    "\n",
    "c. Is happiness is driven by earnings or marital status?"
   ]
  },
  {
   "cell_type": "code",
   "execution_count": 31,
   "metadata": {},
   "outputs": [
    {
     "data": {
      "text/html": [
       "<div>\n",
       "<style scoped>\n",
       "    .dataframe tbody tr th:only-of-type {\n",
       "        vertical-align: middle;\n",
       "    }\n",
       "\n",
       "    .dataframe tbody tr th {\n",
       "        vertical-align: top;\n",
       "    }\n",
       "\n",
       "    .dataframe thead th {\n",
       "        text-align: right;\n",
       "    }\n",
       "</style>\n",
       "<table border=\"1\" class=\"dataframe\">\n",
       "  <thead>\n",
       "    <tr style=\"text-align: right;\">\n",
       "      <th></th>\n",
       "      <th>id</th>\n",
       "      <th>wrkstat</th>\n",
       "      <th>marital</th>\n",
       "      <th>childs</th>\n",
       "      <th>age</th>\n",
       "      <th>educ</th>\n",
       "      <th>paeduc</th>\n",
       "      <th>maeduc</th>\n",
       "      <th>speduc</th>\n",
       "      <th>degree</th>\n",
       "      <th>...</th>\n",
       "      <th>agecat</th>\n",
       "      <th>childcat</th>\n",
       "      <th>news1</th>\n",
       "      <th>news2</th>\n",
       "      <th>news3</th>\n",
       "      <th>news4</th>\n",
       "      <th>news5</th>\n",
       "      <th>car1</th>\n",
       "      <th>car2</th>\n",
       "      <th>car3</th>\n",
       "    </tr>\n",
       "  </thead>\n",
       "  <tbody>\n",
       "    <tr>\n",
       "      <th>0</th>\n",
       "      <td>1</td>\n",
       "      <td>Working full time</td>\n",
       "      <td>Divorced</td>\n",
       "      <td>2.0</td>\n",
       "      <td>60.0</td>\n",
       "      <td>12.0</td>\n",
       "      <td>12.0</td>\n",
       "      <td>12.0</td>\n",
       "      <td>NaN</td>\n",
       "      <td>High school</td>\n",
       "      <td>...</td>\n",
       "      <td>55 to 64</td>\n",
       "      <td>1-2</td>\n",
       "      <td>No</td>\n",
       "      <td>No</td>\n",
       "      <td>No</td>\n",
       "      <td>No</td>\n",
       "      <td>No</td>\n",
       "      <td>American</td>\n",
       "      <td>Japanese</td>\n",
       "      <td>Japanese</td>\n",
       "    </tr>\n",
       "    <tr>\n",
       "      <th>1</th>\n",
       "      <td>2</td>\n",
       "      <td>Working part-time</td>\n",
       "      <td>Never married</td>\n",
       "      <td>0.0</td>\n",
       "      <td>27.0</td>\n",
       "      <td>17.0</td>\n",
       "      <td>20.0</td>\n",
       "      <td>NaN</td>\n",
       "      <td>NaN</td>\n",
       "      <td>Junior college</td>\n",
       "      <td>...</td>\n",
       "      <td>25 to 34</td>\n",
       "      <td>None</td>\n",
       "      <td>No</td>\n",
       "      <td>No</td>\n",
       "      <td>Yes</td>\n",
       "      <td>No</td>\n",
       "      <td>No</td>\n",
       "      <td>American</td>\n",
       "      <td>German</td>\n",
       "      <td>Japanese</td>\n",
       "    </tr>\n",
       "    <tr>\n",
       "      <th>2</th>\n",
       "      <td>3</td>\n",
       "      <td>Working full time</td>\n",
       "      <td>Married</td>\n",
       "      <td>2.0</td>\n",
       "      <td>36.0</td>\n",
       "      <td>12.0</td>\n",
       "      <td>12.0</td>\n",
       "      <td>12.0</td>\n",
       "      <td>16.0</td>\n",
       "      <td>High school</td>\n",
       "      <td>...</td>\n",
       "      <td>35 to 44</td>\n",
       "      <td>1-2</td>\n",
       "      <td>No</td>\n",
       "      <td>No</td>\n",
       "      <td>No</td>\n",
       "      <td>Yes</td>\n",
       "      <td>Yes</td>\n",
       "      <td>American</td>\n",
       "      <td>American</td>\n",
       "      <td>NaN</td>\n",
       "    </tr>\n",
       "    <tr>\n",
       "      <th>3</th>\n",
       "      <td>4</td>\n",
       "      <td>Working full time</td>\n",
       "      <td>Never married</td>\n",
       "      <td>0.0</td>\n",
       "      <td>21.0</td>\n",
       "      <td>13.0</td>\n",
       "      <td>NaN</td>\n",
       "      <td>12.0</td>\n",
       "      <td>NaN</td>\n",
       "      <td>High school</td>\n",
       "      <td>...</td>\n",
       "      <td>Less than 25</td>\n",
       "      <td>None</td>\n",
       "      <td>No</td>\n",
       "      <td>No</td>\n",
       "      <td>No</td>\n",
       "      <td>Yes</td>\n",
       "      <td>Yes</td>\n",
       "      <td>American</td>\n",
       "      <td>Other</td>\n",
       "      <td>NaN</td>\n",
       "    </tr>\n",
       "    <tr>\n",
       "      <th>4</th>\n",
       "      <td>5</td>\n",
       "      <td>Working full time</td>\n",
       "      <td>Never married</td>\n",
       "      <td>0.0</td>\n",
       "      <td>35.0</td>\n",
       "      <td>16.0</td>\n",
       "      <td>NaN</td>\n",
       "      <td>12.0</td>\n",
       "      <td>NaN</td>\n",
       "      <td>Bachelor</td>\n",
       "      <td>...</td>\n",
       "      <td>35 to 44</td>\n",
       "      <td>None</td>\n",
       "      <td>No</td>\n",
       "      <td>No</td>\n",
       "      <td>No</td>\n",
       "      <td>No</td>\n",
       "      <td>No</td>\n",
       "      <td>American</td>\n",
       "      <td>American</td>\n",
       "      <td>Korean</td>\n",
       "    </tr>\n",
       "  </tbody>\n",
       "</table>\n",
       "<p>5 rows × 46 columns</p>\n",
       "</div>"
      ],
      "text/plain": [
       "   id            wrkstat        marital  childs   age  educ  paeduc  maeduc  \\\n",
       "0   1  Working full time       Divorced     2.0  60.0  12.0    12.0    12.0   \n",
       "1   2  Working part-time  Never married     0.0  27.0  17.0    20.0     NaN   \n",
       "2   3  Working full time        Married     2.0  36.0  12.0    12.0    12.0   \n",
       "3   4  Working full time  Never married     0.0  21.0  13.0     NaN    12.0   \n",
       "4   5  Working full time  Never married     0.0  35.0  16.0     NaN    12.0   \n",
       "\n",
       "   speduc          degree  ...        agecat childcat news1 news2  news3  \\\n",
       "0     NaN     High school  ...      55 to 64      1-2    No    No     No   \n",
       "1     NaN  Junior college  ...      25 to 34     None    No    No    Yes   \n",
       "2    16.0     High school  ...      35 to 44      1-2    No    No     No   \n",
       "3     NaN     High school  ...  Less than 25     None    No    No     No   \n",
       "4     NaN        Bachelor  ...      35 to 44     None    No    No     No   \n",
       "\n",
       "  news4 news5      car1      car2      car3  \n",
       "0    No    No  American  Japanese  Japanese  \n",
       "1    No    No  American    German  Japanese  \n",
       "2   Yes   Yes  American  American       NaN  \n",
       "3   Yes   Yes  American     Other       NaN  \n",
       "4    No    No  American  American    Korean  \n",
       "\n",
       "[5 rows x 46 columns]"
      ]
     },
     "execution_count": 31,
     "metadata": {},
     "output_type": "execute_result"
    }
   ],
   "source": [
    "sam=pd.read_csv('sample_survey.csv')\n",
    "sam.head()"
   ]
  },
  {
   "cell_type": "code",
   "execution_count": 32,
   "metadata": {},
   "outputs": [
    {
     "data": {
      "text/plain": [
       "Index(['id', 'wrkstat', 'marital', 'childs', 'age', 'educ', 'paeduc', 'maeduc',\n",
       "       'speduc', 'degree', 'sex', 'race', 'born', 'parborn', 'granborn',\n",
       "       'income', 'rincome', 'polviews', 'cappun', 'postlife', 'happy',\n",
       "       'hapmar', 'owngun', 'news', 'tvhours', 'howpaid', 'ethnic', 'eth1',\n",
       "       'eth2', 'eth3', 'confinan', 'conbus', 'coneduc', 'conpress', 'conmedic',\n",
       "       'contv', 'agecat', 'childcat', 'news1', 'news2', 'news3', 'news4',\n",
       "       'news5', 'car1', 'car2', 'car3'],\n",
       "      dtype='object')"
      ]
     },
     "execution_count": 32,
     "metadata": {},
     "output_type": "execute_result"
    }
   ],
   "source": [
    "sam.columns"
   ]
  },
  {
   "cell_type": "code",
   "execution_count": 33,
   "metadata": {},
   "outputs": [],
   "source": [
    "\n",
    "    #This function will compute frequency table of x an yPandas Series, and use the table to feed for the contigency table\n",
    "    #Parameters:\n",
    "    #-------\n",
    "    #x,y : Pandas Series, must be same shape for frequency table\n",
    "    \n",
    "    #Return:\n",
    "    #-------\n",
    "    #None. But prints out frequency table, chi2 test statistic, and  p-value  "
   ]
  },
  {
   "cell_type": "code",
   "execution_count": 34,
   "metadata": {},
   "outputs": [],
   "source": [
    "def compute_freq_chi2(x,y):\n",
    "    freqtab = pd.crosstab(x,y)\n",
    "    print(\"Frequency table\")\n",
    "    print(\"============================\")\n",
    "    print(freqtab)\n",
    "    print(\"============================\")\n",
    "    chi2,pval,dof,expected = stats.chi2_contingency(freqtab)\n",
    "    print(\"ChiSquare test statistic: \",chi2)\n",
    "    print(\"p-value: \",pval)\n",
    "    return"
   ]
  },
  {
   "cell_type": "markdown",
   "metadata": {},
   "source": [
    "# apply Chi-square test of independence!"
   ]
  },
  {
   "cell_type": "markdown",
   "metadata": {},
   "source": [
    "Null Hypothesis: There is no relationship between labour force status and marital status.\n",
    "    \n",
    "Alternate Hypothesis: A relationship exists between labour force status and marital status."
   ]
  },
  {
   "cell_type": "code",
   "execution_count": 35,
   "metadata": {},
   "outputs": [
    {
     "name": "stdout",
     "output_type": "stream",
     "text": [
      "Frequency table\n",
      "============================\n",
      "wrkstat        Keeping house  Other  Retired  School  Temporarily not working  \\\n",
      "marital                                                                         \n",
      "Divorced                  25     12       53       7                        9   \n",
      "Married                  200     16      168       9                       23   \n",
      "Never married             35     14       17      60                       11   \n",
      "Separated                 13      4        6       2                        1   \n",
      "Widowed                   55      8      150       1                        2   \n",
      "\n",
      "wrkstat        Unemployed, laid off  Working full time  Working part-time  \n",
      "marital                                                                    \n",
      "Divorced                         10                295                 35  \n",
      "Married                          13                778                138  \n",
      "Never married                    32                392                102  \n",
      "Separated                         0                 58                  9  \n",
      "Widowed                           3                 44                 20  \n",
      "============================\n",
      "ChiSquare test statistic:  729.2421426572284\n",
      "p-value:  1.4875268409067568e-135\n"
     ]
    }
   ],
   "source": [
    "compute_freq_chi2(sam.marital, sam.wrkstat)"
   ]
  },
  {
   "cell_type": "markdown",
   "metadata": {},
   "source": [
    "\n",
    "Since p-value is less than 0.05 for 95% confidence interval.\n",
    "\n",
    "Therefore, we reject the null hypothesis."
   ]
  },
  {
   "cell_type": "markdown",
   "metadata": {},
   "source": [
    "=========================================================================="
   ]
  },
  {
   "cell_type": "markdown",
   "metadata": {},
   "source": [
    "Null Hypothesis: There is no relationship between educational qualification and marital status.\n",
    "    \n",
    "Alternate Hypothesis: A relationship exists between educational qualification and marital status."
   ]
  },
  {
   "cell_type": "code",
   "execution_count": 36,
   "metadata": {},
   "outputs": [
    {
     "name": "stdout",
     "output_type": "stream",
     "text": [
      "Frequency table\n",
      "============================\n",
      "marital         Divorced  Married  Never married  Separated  Widowed\n",
      "degree                                                              \n",
      "Bachelor              58      251            129         12       28\n",
      "Graduate              29      123             41          3        9\n",
      "High school          241      686            367         58      148\n",
      "Junior college        45      108             46          3        6\n",
      "LT High school        70      174             77         17       92\n",
      "============================\n",
      "ChiSquare test statistic:  122.68449020508541\n",
      "p-value:  1.6707923432360119e-18\n"
     ]
    }
   ],
   "source": [
    "compute_freq_chi2(sam.degree, sam.marital)"
   ]
  },
  {
   "cell_type": "code",
   "execution_count": null,
   "metadata": {},
   "outputs": [],
   "source": []
  },
  {
   "cell_type": "markdown",
   "metadata": {},
   "source": [
    "Null Hypothesis: Happiness is not driven by both income and marital status.\n",
    "    \n",
    "Alternate Hypothesis: Happiness is driven by both income and /or marital status."
   ]
  },
  {
   "cell_type": "code",
   "execution_count": 37,
   "metadata": {},
   "outputs": [
    {
     "name": "stdout",
     "output_type": "stream",
     "text": [
      "Frequency table\n",
      "============================\n",
      "marital        Divorced  Married  Never married  Separated  Widowed\n",
      "happy                                                              \n",
      "Not too happy        72       71            108         30       59\n",
      "Pretty happy        278      684            426         49      137\n",
      "Very happy           93      582            120         13       83\n",
      "============================\n",
      "ChiSquare test statistic:  260.6894389418282\n",
      "p-value:  9.3147261197964e-52\n"
     ]
    }
   ],
   "source": [
    "compute_freq_chi2(sam.happy, sam.marital)"
   ]
  },
  {
   "cell_type": "code",
   "execution_count": 38,
   "metadata": {},
   "outputs": [
    {
     "name": "stdout",
     "output_type": "stream",
     "text": [
      "Frequency table\n",
      "============================\n",
      "income         $1000 TO 2999  $10000 - 14999  $15000 - 19999  $20000 - 24999  \\\n",
      "happy                                                                          \n",
      "Not too happy              7              39              33              40   \n",
      "Pretty happy              20             107             119             155   \n",
      "Very happy                 5              44              26              50   \n",
      "\n",
      "income         $25000 or more  $3000 TO 3999  $4000 TO 4999  $5000 TO 5999  \\\n",
      "happy                                                                        \n",
      "Not too happy             113              9              9              6   \n",
      "Pretty happy              888             11             13             18   \n",
      "Very happy                571              4             10             11   \n",
      "\n",
      "income         $6000 TO 6999  $7000 TO 7999  $8000 TO 9999  LT $1000  \n",
      "happy                                                                 \n",
      "Not too happy             14             12              9        11  \n",
      "Pretty happy              13             21             30        13  \n",
      "Very happy                 6             14             19        11  \n",
      "============================\n",
      "ChiSquare test statistic:  178.9505306121643\n",
      "p-value:  1.4107677273473057e-26\n"
     ]
    }
   ],
   "source": [
    "compute_freq_chi2(sam.happy, sam.income)"
   ]
  },
  {
   "cell_type": "code",
   "execution_count": null,
   "metadata": {},
   "outputs": [],
   "source": []
  },
  {
   "cell_type": "code",
   "execution_count": null,
   "metadata": {},
   "outputs": [],
   "source": []
  },
  {
   "cell_type": "code",
   "execution_count": null,
   "metadata": {},
   "outputs": [],
   "source": []
  }
 ],
 "metadata": {
  "kernelspec": {
   "display_name": "Python 3",
   "language": "python",
   "name": "python3"
  },
  "language_info": {
   "codemirror_mode": {
    "name": "ipython",
    "version": 3
   },
   "file_extension": ".py",
   "mimetype": "text/x-python",
   "name": "python",
   "nbconvert_exporter": "python",
   "pygments_lexer": "ipython3",
   "version": "3.7.6"
  }
 },
 "nbformat": 4,
 "nbformat_minor": 2
}
